{
 "cells": [
  {
   "cell_type": "code",
   "execution_count": 1,
   "metadata": {
    "collapsed": false
   },
   "outputs": [
    {
     "name": "stderr",
     "output_type": "stream",
     "text": [
      "Loading required package: Matrix\n",
      "Loading required package: gurobi\n",
      "Loading required package: slam\n"
     ]
    }
   ],
   "source": [
    "require('Matrix')\n",
    "require('gurobi')\n",
    "thePath = \"C:/Users/Isabelle_Salcher/OneDrive/NYU/03 - Year 2/Match Econ Code/04-appli-optassign\""
   ]
  },
  {
   "cell_type": "code",
   "execution_count": 2,
   "metadata": {
    "collapsed": true
   },
   "outputs": [],
   "source": [
    "data = as.matrix(read.csv(paste0(thePath,\"/affinitymatrix.csv\"),sep=\",\", header=TRUE)) # loads the data\n",
    "nbcar = 10\n",
    "A = matrix(as.numeric(data[1:nbcar,2:(nbcar+1)]),nbcar,nbcar)"
   ]
  },
  {
   "cell_type": "code",
   "execution_count": 4,
   "metadata": {
    "collapsed": false
   },
   "outputs": [],
   "source": [
    "data = as.matrix(read.csv(paste0(thePath,\"/Xvals.csv\"),sep=\",\", header=TRUE)) # loads the data\n",
    "Xvals = matrix(as.numeric(data[,1:nbcar]),ncol=nbcar)\n",
    "\n",
    "data = as.matrix(read.csv(paste0(thePath,\"/Yvals.csv\"),sep=\",\", header=TRUE)) # loads the data\n",
    "Yvals = matrix(as.numeric(data[,1:nbcar]),ncol=nbcar)"
   ]
  },
  {
   "cell_type": "code",
   "execution_count": 6,
   "metadata": {
    "collapsed": false
   },
   "outputs": [],
   "source": [
    "sdX = apply(Xvals,2,sd)\n",
    "sdY = apply(Yvals,2,sd)\n",
    "mX = apply(Xvals,2,mean)\n",
    "mY = apply(Yvals,2,mean)\n",
    "Xvals = t( (t(Xvals)-mX) / sdX)\n",
    "Yvals = t( (t(Yvals)-mY) / sdY)\n",
    "nobs = dim(Xvals)[1]"
   ]
  },
  {
   "cell_type": "code",
   "execution_count": 11,
   "metadata": {
    "collapsed": false
   },
   "outputs": [],
   "source": [
    "Phi = Xvals %*% A %*% t(Yvals)"
   ]
  },
  {
   "cell_type": "code",
   "execution_count": 15,
   "metadata": {
    "collapsed": false
   },
   "outputs": [],
   "source": [
    "p = rep(1/nobs,nobs)\n",
    "q = rep(1/nobs,nobs)"
   ]
  },
  {
   "cell_type": "code",
   "execution_count": 16,
   "metadata": {
    "collapsed": true
   },
   "outputs": [],
   "source": [
    "N = dim(Phi)[1]\n",
    "M = dim(Phi)[2]"
   ]
  },
  {
   "cell_type": "code",
   "execution_count": 19,
   "metadata": {
    "collapsed": false
   },
   "outputs": [],
   "source": [
    "c = c(Phi)"
   ]
  },
  {
   "cell_type": "code",
   "execution_count": 20,
   "metadata": {
    "collapsed": false
   },
   "outputs": [
    {
     "name": "stdout",
     "output_type": "stream",
     "text": [
      "[1] \"Value of the problem (Gurobi) =1.70388302245657\"\n",
      " [1]  0.51218086 -0.11429331  0.94097649  1.63155380  2.33101773  1.32786946\n",
      " [7] -0.15706008  0.59484033  0.07083777  0.12608723\n",
      " [1] 0.6680330 0.4496133 2.0290215 1.0974134 0.3045042 1.3137156 0.6013508\n",
      " [8] 1.9163097 0.8227658 1.2977535\n"
     ]
    }
   ],
   "source": [
    "A1 = kronecker(matrix(1,1,M),sparseMatrix(1:N,1:N))\n",
    "A2 = kronecker(sparseMatrix(1:M,1:M),matrix(1,1,N))\n",
    "A = rbind2(A1,A2)\n",
    "\n",
    "d = c(p,q) \n",
    "\n",
    "result   = gurobi ( list(A=A,obj=c,modelsense=\"max\",rhs=d,sense=\"=\"), params=list(OutputFlag=0) ) \n",
    "if (result$status==\"OPTIMAL\") {\n",
    "  pi = matrix(result$x,nrow=N)\n",
    "  u = result$pi[1:N]\n",
    "  v = result$pi[(N+1):(N+M)]\n",
    "  val = result$objval\n",
    "} else {stop(\"optimization problem with Gurobi.\") }\n",
    "\n",
    "print(paste0(\"Value of the problem (Gurobi) =\",val))\n",
    "print(u[1:10])\n",
    "print(v[1:10])"
   ]
  }
 ],
 "metadata": {
  "anaconda-cloud": {},
  "kernelspec": {
   "display_name": "R",
   "language": "R",
   "name": "ir"
  },
  "language_info": {
   "codemirror_mode": "r",
   "file_extension": ".r",
   "mimetype": "text/x-r-source",
   "name": "R",
   "pygments_lexer": "r",
   "version": "3.4.3"
  }
 },
 "nbformat": 4,
 "nbformat_minor": 0
}

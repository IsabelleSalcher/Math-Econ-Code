{
 "cells": [
  {
   "cell_type": "code",
   "execution_count": 1,
   "metadata": {
    "collapsed": true
   },
   "outputs": [],
   "source": [
    "cdf_P = punif\n",
    "quantile_P = qunif"
   ]
  },
  {
   "cell_type": "code",
   "execution_count": 2,
   "metadata": {
    "collapsed": true
   },
   "outputs": [],
   "source": [
    "cdf_Q = pnorm\n",
    "quantile_Q = qnorm"
   ]
  },
  {
   "cell_type": "code",
   "execution_count": 3,
   "metadata": {
    "collapsed": true
   },
   "outputs": [],
   "source": [
    "Phi = function(x,y) (x*y)\n",
    "dPhi_dx = function(x,y) (y)\n",
    "dPhi_dy = function(x,y) (x)"
   ]
  },
  {
   "cell_type": "code",
   "execution_count": 4,
   "metadata": {
    "collapsed": true
   },
   "outputs": [],
   "source": [
    "Tx = function (x) (quantile_Q(cdf_P(x)))\n",
    "Tinvy = function (y) (quantile_P(cdf_Q(y)))"
   ]
  },
  {
   "cell_type": "code",
   "execution_count": 5,
   "metadata": {
    "collapsed": true
   },
   "outputs": [],
   "source": [
    "ux = function(x) (integrate(f = function(z) (dPhi_dx(z,Tx(z))),lower = 0,upper = x )$value)\n",
    "vy = function(y) (integrate(f = function(z) (dPhi_dy(Tinvy(z),z)),lower = Tx(0),upper = y )$value\n",
    "                  ) - Phi(0,Tx(0))"
   ]
  }
 ],
 "metadata": {
  "anaconda-cloud": {},
  "kernelspec": {
   "display_name": "R",
   "language": "R",
   "name": "ir"
  },
  "language_info": {
   "codemirror_mode": "r",
   "file_extension": ".r",
   "mimetype": "text/x-r-source",
   "name": "R",
   "pygments_lexer": "r",
   "version": "3.4.3"
  }
 },
 "nbformat": 4,
 "nbformat_minor": 0
}

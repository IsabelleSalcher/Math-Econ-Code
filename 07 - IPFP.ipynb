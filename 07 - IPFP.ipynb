{
 "cells": [
  {
   "cell_type": "code",
   "execution_count": 26,
   "metadata": {
    "collapsed": true
   },
   "outputs": [],
   "source": [
    "tol=1E-9\n",
    "maxiter = 1000000\n",
    "sigma = 0.01"
   ]
  },
  {
   "cell_type": "code",
   "execution_count": 27,
   "metadata": {
    "collapsed": true
   },
   "outputs": [],
   "source": [
    "seed = 777\n",
    "nbX=10\n",
    "nbY=8\n",
    "set.seed(seed)\n",
    "Phi=matrix(runif(nbX*nbY),nrow=nbX)\n",
    "p=rep(1/nbX,nbX)\n",
    "q=rep(1/nbY,nbY)"
   ]
  },
  {
   "cell_type": "code",
   "execution_count": 28,
   "metadata": {
    "collapsed": true
   },
   "outputs": [],
   "source": [
    "library(Matrix)"
   ]
  },
  {
   "cell_type": "code",
   "execution_count": 29,
   "metadata": {
    "collapsed": false
   },
   "outputs": [],
   "source": [
    "library(gurobi)"
   ]
  },
  {
   "cell_type": "code",
   "execution_count": 30,
   "metadata": {
    "collapsed": true
   },
   "outputs": [],
   "source": [
    "A1 = kronecker(matrix(1,1,nbY),sparseMatrix(1:nbX,1:nbX))\n",
    "A2 = kronecker(sparseMatrix(1:nbY,1:nbY),matrix(1,1,nbX))\n",
    "A = rbind2(A1,A2)"
   ]
  },
  {
   "cell_type": "code",
   "execution_count": 31,
   "metadata": {
    "collapsed": true
   },
   "outputs": [],
   "source": [
    "result   = gurobi ( list(A=A,obj=c(Phi),modelsense=\"max\",rhs=c(p,q),sense=\"=\"), params=list(OutputFlag=0) ) "
   ]
  },
  {
   "cell_type": "code",
   "execution_count": 7,
   "metadata": {
    "collapsed": false
   },
   "outputs": [
    {
     "name": "stdout",
     "output_type": "stream",
     "text": [
      "List of 13\n",
      " $ status      : chr \"OPTIMAL\"\n",
      " $ runtime     : num 0\n",
      " $ itercount   : num 22\n",
      " $ baritercount: int 0\n",
      " $ nodecount   : num 0\n",
      " $ objval      : num 0.869\n",
      " $ x           : num [1:80] 0 0 0 0.1 0 0 0 0 0.025 0 ...\n",
      " $ slack       : num [1:18] 0 0 0 0 0 0 0 0 0 0 ...\n",
      " $ pi          : num [1:18] -0.2919 -0.3644 -0.2417 -0.0713 -0.1584 ...\n",
      " $ rc          : num [1:80] -0.0865 -0.2097 -0.4795 0 -0.2126 ...\n",
      " $ vbasis      : int [1:80] -1 -1 -1 0 -1 -1 -1 -1 0 -1 ...\n",
      " $ cbasis      : int [1:18] -1 -1 -1 -1 -1 -1 -1 0 -1 -1 ...\n",
      " $ objbound    : num 0.869\n"
     ]
    }
   ],
   "source": [
    "str(result)"
   ]
  },
  {
   "cell_type": "markdown",
   "metadata": {},
   "source": [
    "IFPP"
   ]
  },
  {
   "cell_type": "code",
   "execution_count": 32,
   "metadata": {
    "collapsed": true
   },
   "outputs": [],
   "source": [
    "cont = TRUE\n",
    "  iter = 0\n",
    "  \n",
    "  K=exp(Phi/sigma)\n",
    "  B=rep(1,nbY)"
   ]
  },
  {
   "cell_type": "code",
   "execution_count": 33,
   "metadata": {
    "collapsed": false
   },
   "outputs": [],
   "source": [
    "  while (cont) {\n",
    "    iter = iter+1\n",
    "    A = p / c(K %*% B)\n",
    "    pi = t(t(K*A)*B)\n",
    "    if ((max(abs(apply(X=pi,FUN=sum,MARGIN=2) /q-1)) < tol) | (iter>maxiter)) {cont=FALSE}\n",
    "    B = q / c(A %*% K)\n",
    "  }"
   ]
  },
  {
   "cell_type": "code",
   "execution_count": 35,
   "metadata": {
    "collapsed": false
   },
   "outputs": [],
   "source": [
    "sigma = 0.001"
   ]
  },
  {
   "cell_type": "code",
   "execution_count": 37,
   "metadata": {
    "collapsed": false
   },
   "outputs": [
    {
     "name": "stdout",
     "output_type": "stream",
     "text": [
      "[1] \"IPFP2 converged in 485768 steps and 198.41s.\"\n",
      "[1] \"Value of the problem (IPFP2) = NaN\"\n",
      "[1] \"Sum(pi*Phi) (IPFP2) = 0.869151724470475\"\n"
     ]
    },
    {
     "ename": "ERROR",
     "evalue": "Error in 1:nrow: NA/NaN Argument\n",
     "output_type": "error",
     "traceback": [
      "Error in 1:nrow: NA/NaN Argument\nTraceback:\n",
      "1. print(u[1:nrow] - u[nrow])   # at line 34 of file <text>"
     ]
    }
   ],
   "source": [
    " ptm=proc.time()\n",
    "iter = 0\n",
    "  cont=TRUE\n",
    "  v = rep(0,nbY)\n",
    "  mu = - sigma * log(p)\n",
    "  nu = - sigma * log(q)\n",
    "  uprec = -Inf\n",
    "  while(cont)\n",
    "  {\n",
    "    #print(iter)\n",
    "    iter = iter+1\n",
    "    vstar = apply(t(t(Phi) - v), 1, max)\n",
    "    \n",
    "    u=mu + vstar + sigma * log( apply(exp( (Phi - matrix(v,nbX,nbY,byrow=T) - vstar)/sigma) ,1, sum) )\n",
    "    error = max(abs(u-uprec))\n",
    "    uprec = u\n",
    "    \n",
    "    ustar = apply( Phi - u , 2, max)\n",
    "    v = nu + ustar + sigma * log(apply(exp( (Phi - u - matrix(ustar,nbX,nbY,byrow=T) )/sigma) ,2, sum))\n",
    "    \n",
    "    if( (error<tol) | (iter >= maxiter)) {cont=FALSE}\n",
    "    \n",
    "  }\n",
    "  pi = exp( ( Phi - u - matrix(v,nbX,nbY,byrow=T) ) / sigma )\n",
    "  val = sum(pi*Phi) - sigma* sum(pi*log(pi))\n",
    "  time = proc.time()-ptm\n",
    "  \n",
    "  if (iter >= maxiter ) \n",
    "  {print('Maximum number of iterations reached in IPFP2.')\n",
    "  } else {\n",
    "    print(paste0(\"IPFP2 converged in \",iter, \" steps and \", time[1], \"s.\"))\n",
    "    print(paste0(\"Value of the problem (IPFP2) = \",val))\n",
    "    print(paste0(\"Sum(pi*Phi) (IPFP2) = \",sum(pi*Phi)))\n",
    "    print(u[1:nrow]-u[nrow])\n",
    "    print(v[1:ncol]+u[nrow])\n",
    "  }"
   ]
  }
 ],
 "metadata": {
  "anaconda-cloud": {},
  "kernelspec": {
   "display_name": "R",
   "language": "R",
   "name": "ir"
  },
  "language_info": {
   "codemirror_mode": "r",
   "file_extension": ".r",
   "mimetype": "text/x-r-source",
   "name": "R",
   "pygments_lexer": "r",
   "version": "3.4.3"
  }
 },
 "nbformat": 4,
 "nbformat_minor": 0
}

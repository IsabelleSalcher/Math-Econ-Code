{
 "cells": [
  {
   "cell_type": "code",
   "execution_count": 1,
   "metadata": {
    "collapsed": true
   },
   "outputs": [],
   "source": [
    "thePath = \"C:/Users/Isabelle_Salcher/OneDrive/NYU/03 - Year 2/Match Econ Code/10-appli-travelmode\""
   ]
  },
  {
   "cell_type": "code",
   "execution_count": 11,
   "metadata": {
    "collapsed": true
   },
   "outputs": [],
   "source": [
    "travelmodedataset = as.matrix(read.csv(paste0(thePath,\"/travelmodedata.csv\"),sep=\",\", header=TRUE)) # loads the data\n"
   ]
  },
  {
   "cell_type": "code",
   "execution_count": 12,
   "metadata": {
    "collapsed": true
   },
   "outputs": [],
   "source": [
    "convertmode = Vectorize ( \n",
    "  function(inputtxt) { \n",
    "    if (inputtxt == \"air\") {\n",
    "      return(1) \n",
    "      }\n",
    "    if (inputtxt == \"train\") {\n",
    "      return(2)\n",
    "      }\n",
    "    if (inputtxt == \"bus\") {\n",
    "      return(3)\n",
    "      }\n",
    "    if (inputtxt == \"car\") {\n",
    "      return(4)\n",
    "      }\n",
    "  }\n",
    ")\n",
    "\n",
    "convertchoice = function(x) (ifelse(x==\"no\",0,1))"
   ]
  },
  {
   "cell_type": "code",
   "execution_count": 13,
   "metadata": {
    "collapsed": false
   },
   "outputs": [
    {
     "name": "stdout",
     "output_type": "stream",
     "text": [
      "[1] \"Market shares:\"\n",
      "      air     train       bus       car \n",
      "0.2761905 0.3000000 0.1428571 0.2809524 \n",
      "[1] \"Systematic utilities (logit):\"\n",
      "        air       train         bus         car \n",
      "-0.01709443  0.06559728 -0.67634006  0.00000000 \n"
     ]
    }
   ],
   "source": [
    "travelmodedataset[,2] = convertmode(travelmodedataset[,2])\n",
    "travelmodedataset[,3] = convertchoice(travelmodedataset[,3])\n",
    "nobs = dim(travelmodedataset)[1]\n",
    "nind = nobs / 4\n",
    "ncols =  dim(travelmodedataset)[2]\n",
    "travelmodedataset = array(as.numeric(travelmodedataset),dim = c(4,nind,ncols))\n",
    "choices = travelmodedataset[,,3]\n",
    "s = apply(X = choices,FUN = mean, MARGIN = 1)\n",
    "names(s)=c(\"air\",\"train\",\"bus\",\"car\")\n",
    "print(\"Market shares:\")\n",
    "print(s)\n",
    "# logit model\n",
    "Ulogit = log(s[1:4]/s[4])\n",
    "print(\"Systematic utilities (logit):\")\n",
    "print(Ulogit)\n",
    "# nested logit model\n",
    "# two nests = nocar,car\n",
    "lambda = c(1/2,1/2)"
   ]
  },
  {
   "cell_type": "code",
   "execution_count": 14,
   "metadata": {
    "collapsed": false
   },
   "outputs": [
    {
     "name": "stdout",
     "output_type": "stream",
     "text": [
      "[1] \"Systematic utilities (nested logit):\"\n",
      "       air      train        bus        car \n",
      "-0.9739313 -0.8085478 -2.2924225  0.0000000 \n"
     ]
    }
   ],
   "source": [
    "Unocar = lambda[1]*log(s[1:3])+(1-lambda[1]) * log(sum(s[1:3]))\n",
    "Ucar = lambda[2]*log(s[4])+(1-lambda[2]) * log(sum(s[4]))\n",
    "Unested = c(Unocar,Ucar ) - Ucar\n",
    "print(\"Systematic utilities (nested logit):\")\n",
    "print(Unested)"
   ]
  },
  {
   "cell_type": "code",
   "execution_count": 16,
   "metadata": {
    "collapsed": false
   },
   "outputs": [
    {
     "name": "stdout",
     "output_type": "stream",
     "text": [
      "[1] \"Choice probabilities within nocar nest (predicted vs observed):\"\n",
      "      air     train       bus \n",
      "0.3841060 0.4172185 0.1986755 \n",
      "      air     train       bus \n",
      "0.3841060 0.4172185 0.1986755 \n"
     ]
    }
   ],
   "source": [
    "print(\"Choice probabilities within nocar nest (predicted vs observed):\")\n",
    "print( exp(Unested[1:3]/lambda[1]) / sum(exp(Unested[1:3]/lambda[1])))\n",
    "print(s[1:3]/sum(s[1:3]))\n"
   ]
  },
  {
   "cell_type": "code",
   "execution_count": 17,
   "metadata": {
    "collapsed": false
   },
   "outputs": [
    {
     "name": "stdout",
     "output_type": "stream",
     "text": [
      "[1] \"Choice probabilities of car nest (predicted vs observed):\"\n",
      "[1] 0.2809524\n",
      "[1] 0.2809524\n"
     ]
    }
   ],
   "source": [
    "print(\"Choice probabilities of car nest (predicted vs observed):\")\n",
    "print( 1 / (sum(exp(Unested[1:3]/lambda[1]))^lambda[1]+1) )\n",
    "print(unname(s[4]))"
   ]
  }
 ],
 "metadata": {
  "anaconda-cloud": {},
  "kernelspec": {
   "display_name": "R",
   "language": "R",
   "name": "ir"
  },
  "language_info": {
   "codemirror_mode": "r",
   "file_extension": ".r",
   "mimetype": "text/x-r-source",
   "name": "R",
   "pygments_lexer": "r",
   "version": "3.4.3"
  }
 },
 "nbformat": 4,
 "nbformat_minor": 0
}
